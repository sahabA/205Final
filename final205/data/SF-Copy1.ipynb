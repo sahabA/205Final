{
 "cells": [
  {
   "cell_type": "code",
   "execution_count": null,
   "metadata": {
    "collapsed": false
   },
   "outputs": [],
   "source": []
  },
  {
   "cell_type": "code",
   "execution_count": null,
   "metadata": {
    "collapsed": false
   },
   "outputs": [],
   "source": [
    "import numpy as np\n",
    "import pandas as pd\n",
    "#import seaborn as sns\n",
    "import matplotlib.pyplot as plt\n",
    "#import sexmachine.detector as gender"
   ]
  },
  {
   "cell_type": "code",
   "execution_count": 3,
   "metadata": {
    "collapsed": false
   },
   "outputs": [
    {
     "name": "stderr",
     "output_type": "stream",
     "text": [
      "C:\\Users\\Sahab\\Anaconda\\lib\\site-packages\\pandas\\io\\parsers.py:1170: DtypeWarning: Columns (9) have mixed types. Specify dtype option on import or set low_memory=False.\n",
      "  data = self._reader.read(nrows)\n"
     ]
    }
   ],
   "source": [
    "#load data\n",
    "\n",
    "data = pd.read_csv('SFC.csv', header=0)\n",
    "data['EmployeeName'] = data['EmployeeName'].str.lower()\n",
    "data['JobTitle'] = data['JobTitle'].str.lower()\n"
   ]
  },
  {
   "cell_type": "code",
   "execution_count": 4,
   "metadata": {
    "collapsed": false
   },
   "outputs": [],
   "source": [
    "def find_grade(row):\n",
    "    \n",
    "    #title = row.lower()\n",
    "    #if deputy court clerk / mark clerk, court and deputy\n",
    "    #if only deputy ignore\n",
    "    executive = ['assitant chief', 'assistant director', 'assistant deputy', 'gen mgr',\n",
    "                     'asst dir', 'asst ch', 'deputy director', 'dpty', 'board secretary', 'general manager',\n",
    "                 'dep dir', 'dept head', 'deputy chief', 'deputy dir',\n",
    "                     'dep chf', 'department head']\n",
    "    upperM = ['chief', 'chf', 'deputy', 'sherif',   'head', 'director', 'captain']\n",
    "    grade = ['intern', 'apprentice', 'prinipal', 'associate', 'junior','senior','sergeant', 'officer', 'lieut',' commander'\n",
    "             '1','2', '3', '4',  'iii', ' iv', 'ii', ' i']\n",
    "    manager = ['manag', 'mgr']  \n",
    "    sup = ['supervisor', 'supv', 'sprv']\n",
    "    asst = ['assitant', 'asst']\n",
    "    #if assistant job has not other category\n",
    "    adm = ['aide', 'secretary','sctry', 'attendant']\n",
    "    for t in executive:        \n",
    "        if t in title:\n",
    "            #set other stuff the same\n",
    "            return 'executive'        \n",
    "    for t in upperM:\n",
    "        if t in title:\n",
    "            return'upperManagement'\n",
    "    for t in manager:\n",
    "        if t in title:\n",
    "            return 'manager'\n",
    "    for t in sup:\n",
    "        if t in title:\n",
    "            return'supervisor'\n",
    "    for t in asst:\n",
    "        if t in title:\n",
    "            return'assistant'\n",
    "    for t in adm:\n",
    "        if t in title:\n",
    "            return'aide'\n",
    "    for t in grade:\n",
    "        if t in title:\n",
    "            return t\n",
    "    return 'other'\n",
    "    \n",
    "\n",
    "#  #aprntc\n",
    "   "
   ]
  },
  {
   "cell_type": "code",
   "execution_count": 7,
   "metadata": {
    "collapsed": false
   },
   "outputs": [],
   "source": [
    "def find_job_title(row):\n",
    "    #title = row.lower()\n",
    "    #if deputy court clerk / mark clerk, court and deputy\n",
    "    #if only deputy ignore\n",
    "    executive = [  'assistant deputy',  'dpty', 'board secretary'                 \n",
    "                      ] \n",
    "    gm = ['general manager', 'gen mgr']\n",
    "    dep_dir = ['dep dir','deputy director', 'deputy dir',]\n",
    "    dep_head = ['dept head','department head']\n",
    "    dep_chief = ['deputy chief','dep chf']\n",
    "    asst_dir= ['asst dir','assistant director']\n",
    "    asst_chf = ['assitant chief',  'asst ch']\n",
    "    \n",
    "    for t in gm:\n",
    "        if t in title:\n",
    "            return \"general manager\" \n",
    "    for t in dep_dir:\n",
    "        if t in title:\n",
    "            return \"deputy director\"\n",
    "    for t in dep_head:\n",
    "        if t in title:\n",
    "            return \"department head\"\n",
    "    for t in dep_chief:\n",
    "        if t in title:\n",
    "            return \"deputy chief\"\n",
    "    for t in asst_dir:\n",
    "        if t in title:\n",
    "            return \"assistant director\"\n",
    "    for t in asst_chf:\n",
    "        if t in title:\n",
    "            return \"assistant chief\"\n",
    "                     #'special assistant', manually\n",
    "    #generic - serparating the same ones\n",
    "    gen_title = ['sherif', 'probation', 'sergeant', 'officer', 'lieut', 'chemist', 'tech', 'nurs','captain',\n",
    "                 'pharm', 'inspector','accountant', 'clerk', 'examiner', 'analyst',\n",
    "                    'paramedic', 'head', 'director', 'sergent', 'senior', 'associate', 'assistant', 'archticet',\n",
    "                 'electrician',  'investigator',  'carpenter', 'mason', 'worker', 'disp', 'tech',\n",
    "                 'battalion' ,         'commander', 'plumber', 'painter',  \n",
    "                      'laborer', 'maintenance', 'repairer', 'cook', 'food',   'gardner', \n",
    "                 'auditor', 'commander', 'curator', 'custod', 'specialist',\n",
    "                      'staff', 'guard', 'attendent', 'nutrionist', 'nurs', 'planner', 'porter', 'lifeguard', \n",
    "                 'social worker', 'therap'] #assoc    \n",
    "    chief = ['chief', 'chf']\n",
    "    manager = ['manag', 'mgr']\n",
    "    cordinator = ['cordinator', 'coord']\n",
    "    counselor = ['couns', 'cnslr']\n",
    "    mechanic = ['auto', 'mech']    \n",
    "    sup = ['supervisor', 'supv', 'sprv']\n",
    "    asst = ['assitant', 'asst']\n",
    "    engineer = ['engineer', 'engr','eng', 'program']\n",
    "    attorney = [ 'public defender', 'attorney', 'attr', 'atty']\n",
    "    #medical - use this for medical iteration tooo\n",
    "    phyician = ['physician', 'orthopedic', 'Epidemiologist', 'anesth']\n",
    "    #if assistant job has not other category\n",
    "    adm = ['aide', 'assistant', 'secretary','sctry', 'attendant', 'asst'] #assistant and attendent are in gen\n",
    "    #management = ['manage', \"superv\", \"sup\"]\n",
    "    #communications?\n",
    "    #medical - use this for medical iteration tooo    \n",
    "    for t in executive:        \n",
    "        if t in title:\n",
    "            #set other stuff the same\n",
    "            return t         \n",
    "    for t in gen_title:\n",
    "        if t in title:\n",
    "            return t\n",
    "    for t in chief:\n",
    "        if t in title:\n",
    "            return'chief'\n",
    "    for t in manager:\n",
    "        if t in title:\n",
    "            return'manager'\n",
    "    for t in cordinator:\n",
    "        if t in title:\n",
    "            return'cordinator'\n",
    "    for t in counselor:\n",
    "        if t in title:\n",
    "            return'counselor'\n",
    "    for t in mechanic:\n",
    "        if t in title:\n",
    "            return'mechanic'\n",
    "    for t in sup:\n",
    "        if t in title:\n",
    "            return'supervisor'\n",
    "    for t in asst:\n",
    "        if t in title:\n",
    "            return'assistant'\n",
    "    for t in engineer:\n",
    "        if t in title:\n",
    "            return'engineer'\n",
    "    for t in attorney:\n",
    "        if t in title:\n",
    "            return'attorney'\n",
    "    for t in phyician:\n",
    "        if t in title:\n",
    "            return'physician'\n",
    "    for t in adm:\n",
    "        if t in title:\n",
    "            return'aide'\n",
    "    return 'other'\n",
    "    \n",
    "    \n",
    "    "
   ]
  },
  {
   "cell_type": "code",
   "execution_count": 10,
   "metadata": {
    "collapsed": false
   },
   "outputs": [],
   "source": [
    "def find_job_dept(row):\n",
    "    #title = row.lower()\n",
    "    #if deputy court clerk / mark clerk, court and deputy\n",
    "    #if only deputy ignore\n",
    "\n",
    "    dept_general = [ 'fire', 'account', 'animal',   'airport', 'emergency']\n",
    "    police =['police', 'finger', 'toxic', 'forensic',  'med examiner',  'sherif', 'probation', 'sergeant']\n",
    "    transit = ['mta', 'transit', 'trnsp', 'transport', 'fare']\n",
    "    construction = ['mason', 'const', 'building', 'housing', 'cement', 'civil', 'carpentor', 'materials', 'bricklayer',\n",
    "                   'commercial', 'landscape', 'glazier','eqip', 'power', 'civil', 'engineer',\n",
    "                    'electric', 'plumber', 'maint', 'repairer', 'weld', 'operat', 'planner', 'bldg', 'parts','street', 'arch']\n",
    "    medical= ['anesth', 'medical', 'nurs', 'clinic', 'health',  'pharm', 'care', 'diagn','chemist', 'lab', 'physic',\n",
    "              'orthopedic', 'Epidemiologist', 'microb', 'dph', 'environ', 'family', 'nutri', 'social', 'pysch', 'radiol', \n",
    "              'therap']\n",
    "    court = ['court', 'legal', 'attorney','hearing','public defender']\n",
    "    municipal = ['mari','sew', 'water', 'wtrt', 'aquatics', 'port', 'industrial', 'asphalt', 'bldg', 'arbor', 'electr', 'line', \n",
    "                 'municipal', 'port director','utlity' ]\n",
    "    city = ['city', 'claim', 'community', 'collect', 'commissioner', 'mayor', 'services', 'asses', 'asr', 'benefits', \n",
    "            'eligibility', 'employee', 'events', 'fiscal', 'gov', 'staff', 'media', 'project', 'parking', 'payrol',\n",
    "            'permit', 'property', 'real', 'program','rep','rent', 'clerk',  'librar', 'educator',]\n",
    "    recreation = ['recreat','parks', 'arts', 'museum', 'curator']    \n",
    "    automotive = ['auto', 'mechan', 'truck' ]\n",
    "    general_laborer = ['general laborer', 'painter', 'cook', 'food', 'gardner', 'custod', 'janitor', 'porter']\n",
    "    #if assistant job has not other category\n",
    "    executive = ['assitant chief', 'assistant director', 'assistant deputy', 'gen mgr',\n",
    "                     'asst dir', 'asst ch', 'deputy director', 'dpty', 'board secretary', 'general manager',\n",
    "                 'dep dir', 'dept head', 'deputy chief', 'deputy dir',\n",
    "                     'dep chf', 'department head'] \n",
    "    dept_adm = ['aide', 'assistant', 'secretary', 'attendant', 'asst']\n",
    "    \n",
    "    for d in dept_general:\n",
    "        if d in title:\n",
    "            return d\n",
    "    for d in police:\n",
    "        if d in title:\n",
    "            return 'police'\n",
    "    for d in transit:\n",
    "        if d in title:\n",
    "            return 'transit'\n",
    "    for d in construction:\n",
    "        if d in title:\n",
    "            return 'construction'\n",
    "    for d in medical:\n",
    "        if d in title:\n",
    "            return \"medical\"\n",
    "    for d in court:\n",
    "        if d in title:\n",
    "            return 'court'\n",
    "    for d in municipal:\n",
    "        if d in title:\n",
    "            return \"municpal\"\n",
    "    for d in city:\n",
    "        if d in title:\n",
    "            return \"city\"\n",
    "    for d in recreation:\n",
    "        if d in title:\n",
    "            return \"recreation\"\n",
    "    for d in general_laborer:\n",
    "        if d in title:\n",
    "            return \"laborer\"\n",
    "    for d in executive:\n",
    "        if d in title:\n",
    "            return \"exceutive\"\n",
    "    for d in dept_adm:\n",
    "        if d in title:\n",
    "            return 'administrative'\n",
    "    return 'other'\n",
    "    "
   ]
  },
  {
   "cell_type": "code",
   "execution_count": 11,
   "metadata": {
    "collapsed": false
   },
   "outputs": [],
   "source": [
    "data['title'] = data['JobTitle'].map(find_job_title)\n",
    "data['grade'] = data['JobTitle'].map(find_grade)\n",
    "data['dept'] = data['JobTitle'].map(find_job_dept)"
   ]
  },
  {
   "cell_type": "code",
   "execution_count": 16,
   "metadata": {
    "collapsed": false
   },
   "outputs": [],
   "source": [
    "data2 = data[(data.BasePay > 26000) ]\n",
    "#k2.to_csv('SFC.csv', sep=',')\n",
    "#data['BinnedJob'] = data['JobTitle'].map(find_job_title)"
   ]
  },
  {
   "cell_type": "code",
   "execution_count": 18,
   "metadata": {
    "collapsed": false
   },
   "outputs": [
    {
     "data": {
      "text/plain": [
       "26005.759999999998"
      ]
     },
     "execution_count": 18,
     "metadata": {},
     "output_type": "execute_result"
    }
   ],
   "source": [
    "\n",
    "data2['BasePay'].min()\n",
    "#data2['TotalPay'].min()"
   ]
  },
  {
   "cell_type": "code",
   "execution_count": 19,
   "metadata": {
    "collapsed": false
   },
   "outputs": [
    {
     "name": "stdout",
     "output_type": "stream",
     "text": [
      "0\n"
     ]
    }
   ],
   "source": [
    "#print min(data['TotalPay'])\n",
    "print  len(data2[(data2.TotalPay <1) & (data2.TotalPay >-618.4)])"
   ]
  },
  {
   "cell_type": "code",
   "execution_count": 45,
   "metadata": {
    "collapsed": false
   },
   "outputs": [
    {
     "data": {
      "text/plain": [
       "19424"
      ]
     },
     "execution_count": 45,
     "metadata": {},
     "output_type": "execute_result"
    }
   ],
   "source": [
    "len(data2[(data2.Status == \"PT\")])\n",
    "#pt"
   ]
  },
  {
   "cell_type": "code",
   "execution_count": 23,
   "metadata": {
    "collapsed": false
   },
   "outputs": [
    {
     "data": {
      "text/plain": [
       "26363.619999999999"
      ]
     },
     "execution_count": 23,
     "metadata": {},
     "output_type": "execute_result"
    }
   ],
   "source": [
    "min(data2[(data2.Status == \"FT\")].BasePay)"
   ]
  },
  {
   "cell_type": "code",
   "execution_count": 25,
   "metadata": {
    "collapsed": false
   },
   "outputs": [
    {
     "data": {
      "text/plain": [
       "318835.48999999999"
      ]
     },
     "execution_count": 25,
     "metadata": {},
     "output_type": "execute_result"
    }
   ],
   "source": [
    "max(data2[(data2.Status == \"FT\")].BasePay)"
   ]
  },
  {
   "cell_type": "code",
   "execution_count": 29,
   "metadata": {
    "collapsed": false
   },
   "outputs": [
    {
     "ename": "KeyError",
     "evalue": "4",
     "output_type": "error",
     "traceback": [
      "\u001b[1;31m---------------------------------------------------------------------------\u001b[0m",
      "\u001b[1;31mKeyError\u001b[0m                                  Traceback (most recent call last)",
      "\u001b[1;32m<ipython-input-29-2947ba2fa4b7>\u001b[0m in \u001b[0;36m<module>\u001b[1;34m()\u001b[0m\n\u001b[0;32m      1\u001b[0m \u001b[1;31m#data2[(data2.Status == \"PT\")].dept\u001b[0m\u001b[1;33m\u001b[0m\u001b[1;33m\u001b[0m\u001b[0m\n\u001b[1;32m----> 2\u001b[1;33m \u001b[0mdata2\u001b[0m\u001b[1;33m[\u001b[0m\u001b[1;36m4\u001b[0m\u001b[1;33m]\u001b[0m\u001b[1;33m[\u001b[0m\u001b[1;34m'JobTitle'\u001b[0m\u001b[1;33m]\u001b[0m\u001b[1;33m\u001b[0m\u001b[0m\n\u001b[0m",
      "\u001b[1;32mC:\\Users\\Sahab\\Anaconda\\lib\\site-packages\\pandas\\core\\frame.pyc\u001b[0m in \u001b[0;36m__getitem__\u001b[1;34m(self, key)\u001b[0m\n\u001b[0;32m   1795\u001b[0m             \u001b[1;32mreturn\u001b[0m \u001b[0mself\u001b[0m\u001b[1;33m.\u001b[0m\u001b[0m_getitem_multilevel\u001b[0m\u001b[1;33m(\u001b[0m\u001b[0mkey\u001b[0m\u001b[1;33m)\u001b[0m\u001b[1;33m\u001b[0m\u001b[0m\n\u001b[0;32m   1796\u001b[0m         \u001b[1;32melse\u001b[0m\u001b[1;33m:\u001b[0m\u001b[1;33m\u001b[0m\u001b[0m\n\u001b[1;32m-> 1797\u001b[1;33m             \u001b[1;32mreturn\u001b[0m \u001b[0mself\u001b[0m\u001b[1;33m.\u001b[0m\u001b[0m_getitem_column\u001b[0m\u001b[1;33m(\u001b[0m\u001b[0mkey\u001b[0m\u001b[1;33m)\u001b[0m\u001b[1;33m\u001b[0m\u001b[0m\n\u001b[0m\u001b[0;32m   1798\u001b[0m \u001b[1;33m\u001b[0m\u001b[0m\n\u001b[0;32m   1799\u001b[0m     \u001b[1;32mdef\u001b[0m \u001b[0m_getitem_column\u001b[0m\u001b[1;33m(\u001b[0m\u001b[0mself\u001b[0m\u001b[1;33m,\u001b[0m \u001b[0mkey\u001b[0m\u001b[1;33m)\u001b[0m\u001b[1;33m:\u001b[0m\u001b[1;33m\u001b[0m\u001b[0m\n",
      "\u001b[1;32mC:\\Users\\Sahab\\Anaconda\\lib\\site-packages\\pandas\\core\\frame.pyc\u001b[0m in \u001b[0;36m_getitem_column\u001b[1;34m(self, key)\u001b[0m\n\u001b[0;32m   1802\u001b[0m         \u001b[1;31m# get column\u001b[0m\u001b[1;33m\u001b[0m\u001b[1;33m\u001b[0m\u001b[0m\n\u001b[0;32m   1803\u001b[0m         \u001b[1;32mif\u001b[0m \u001b[0mself\u001b[0m\u001b[1;33m.\u001b[0m\u001b[0mcolumns\u001b[0m\u001b[1;33m.\u001b[0m\u001b[0mis_unique\u001b[0m\u001b[1;33m:\u001b[0m\u001b[1;33m\u001b[0m\u001b[0m\n\u001b[1;32m-> 1804\u001b[1;33m             \u001b[1;32mreturn\u001b[0m \u001b[0mself\u001b[0m\u001b[1;33m.\u001b[0m\u001b[0m_get_item_cache\u001b[0m\u001b[1;33m(\u001b[0m\u001b[0mkey\u001b[0m\u001b[1;33m)\u001b[0m\u001b[1;33m\u001b[0m\u001b[0m\n\u001b[0m\u001b[0;32m   1805\u001b[0m \u001b[1;33m\u001b[0m\u001b[0m\n\u001b[0;32m   1806\u001b[0m         \u001b[1;31m# duplicate columns & possible reduce dimensionaility\u001b[0m\u001b[1;33m\u001b[0m\u001b[1;33m\u001b[0m\u001b[0m\n",
      "\u001b[1;32mC:\\Users\\Sahab\\Anaconda\\lib\\site-packages\\pandas\\core\\generic.pyc\u001b[0m in \u001b[0;36m_get_item_cache\u001b[1;34m(self, item)\u001b[0m\n\u001b[0;32m   1082\u001b[0m         \u001b[0mres\u001b[0m \u001b[1;33m=\u001b[0m \u001b[0mcache\u001b[0m\u001b[1;33m.\u001b[0m\u001b[0mget\u001b[0m\u001b[1;33m(\u001b[0m\u001b[0mitem\u001b[0m\u001b[1;33m)\u001b[0m\u001b[1;33m\u001b[0m\u001b[0m\n\u001b[0;32m   1083\u001b[0m         \u001b[1;32mif\u001b[0m \u001b[0mres\u001b[0m \u001b[1;32mis\u001b[0m \u001b[0mNone\u001b[0m\u001b[1;33m:\u001b[0m\u001b[1;33m\u001b[0m\u001b[0m\n\u001b[1;32m-> 1084\u001b[1;33m             \u001b[0mvalues\u001b[0m \u001b[1;33m=\u001b[0m \u001b[0mself\u001b[0m\u001b[1;33m.\u001b[0m\u001b[0m_data\u001b[0m\u001b[1;33m.\u001b[0m\u001b[0mget\u001b[0m\u001b[1;33m(\u001b[0m\u001b[0mitem\u001b[0m\u001b[1;33m)\u001b[0m\u001b[1;33m\u001b[0m\u001b[0m\n\u001b[0m\u001b[0;32m   1085\u001b[0m             \u001b[0mres\u001b[0m \u001b[1;33m=\u001b[0m \u001b[0mself\u001b[0m\u001b[1;33m.\u001b[0m\u001b[0m_box_item_values\u001b[0m\u001b[1;33m(\u001b[0m\u001b[0mitem\u001b[0m\u001b[1;33m,\u001b[0m \u001b[0mvalues\u001b[0m\u001b[1;33m)\u001b[0m\u001b[1;33m\u001b[0m\u001b[0m\n\u001b[0;32m   1086\u001b[0m             \u001b[0mcache\u001b[0m\u001b[1;33m[\u001b[0m\u001b[0mitem\u001b[0m\u001b[1;33m]\u001b[0m \u001b[1;33m=\u001b[0m \u001b[0mres\u001b[0m\u001b[1;33m\u001b[0m\u001b[0m\n",
      "\u001b[1;32mC:\\Users\\Sahab\\Anaconda\\lib\\site-packages\\pandas\\core\\internals.pyc\u001b[0m in \u001b[0;36mget\u001b[1;34m(self, item, fastpath)\u001b[0m\n\u001b[0;32m   2849\u001b[0m \u001b[1;33m\u001b[0m\u001b[0m\n\u001b[0;32m   2850\u001b[0m             \u001b[1;32mif\u001b[0m \u001b[1;32mnot\u001b[0m \u001b[0misnull\u001b[0m\u001b[1;33m(\u001b[0m\u001b[0mitem\u001b[0m\u001b[1;33m)\u001b[0m\u001b[1;33m:\u001b[0m\u001b[1;33m\u001b[0m\u001b[0m\n\u001b[1;32m-> 2851\u001b[1;33m                 \u001b[0mloc\u001b[0m \u001b[1;33m=\u001b[0m \u001b[0mself\u001b[0m\u001b[1;33m.\u001b[0m\u001b[0mitems\u001b[0m\u001b[1;33m.\u001b[0m\u001b[0mget_loc\u001b[0m\u001b[1;33m(\u001b[0m\u001b[0mitem\u001b[0m\u001b[1;33m)\u001b[0m\u001b[1;33m\u001b[0m\u001b[0m\n\u001b[0m\u001b[0;32m   2852\u001b[0m             \u001b[1;32melse\u001b[0m\u001b[1;33m:\u001b[0m\u001b[1;33m\u001b[0m\u001b[0m\n\u001b[0;32m   2853\u001b[0m                 \u001b[0mindexer\u001b[0m \u001b[1;33m=\u001b[0m \u001b[0mnp\u001b[0m\u001b[1;33m.\u001b[0m\u001b[0marange\u001b[0m\u001b[1;33m(\u001b[0m\u001b[0mlen\u001b[0m\u001b[1;33m(\u001b[0m\u001b[0mself\u001b[0m\u001b[1;33m.\u001b[0m\u001b[0mitems\u001b[0m\u001b[1;33m)\u001b[0m\u001b[1;33m)\u001b[0m\u001b[1;33m[\u001b[0m\u001b[0misnull\u001b[0m\u001b[1;33m(\u001b[0m\u001b[0mself\u001b[0m\u001b[1;33m.\u001b[0m\u001b[0mitems\u001b[0m\u001b[1;33m)\u001b[0m\u001b[1;33m]\u001b[0m\u001b[1;33m\u001b[0m\u001b[0m\n",
      "\u001b[1;32mC:\\Users\\Sahab\\Anaconda\\lib\\site-packages\\pandas\\core\\index.pyc\u001b[0m in \u001b[0;36mget_loc\u001b[1;34m(self, key, method)\u001b[0m\n\u001b[0;32m   1570\u001b[0m         \"\"\"\n\u001b[0;32m   1571\u001b[0m         \u001b[1;32mif\u001b[0m \u001b[0mmethod\u001b[0m \u001b[1;32mis\u001b[0m \u001b[0mNone\u001b[0m\u001b[1;33m:\u001b[0m\u001b[1;33m\u001b[0m\u001b[0m\n\u001b[1;32m-> 1572\u001b[1;33m             \u001b[1;32mreturn\u001b[0m \u001b[0mself\u001b[0m\u001b[1;33m.\u001b[0m\u001b[0m_engine\u001b[0m\u001b[1;33m.\u001b[0m\u001b[0mget_loc\u001b[0m\u001b[1;33m(\u001b[0m\u001b[0m_values_from_object\u001b[0m\u001b[1;33m(\u001b[0m\u001b[0mkey\u001b[0m\u001b[1;33m)\u001b[0m\u001b[1;33m)\u001b[0m\u001b[1;33m\u001b[0m\u001b[0m\n\u001b[0m\u001b[0;32m   1573\u001b[0m \u001b[1;33m\u001b[0m\u001b[0m\n\u001b[0;32m   1574\u001b[0m         \u001b[0mindexer\u001b[0m \u001b[1;33m=\u001b[0m \u001b[0mself\u001b[0m\u001b[1;33m.\u001b[0m\u001b[0mget_indexer\u001b[0m\u001b[1;33m(\u001b[0m\u001b[1;33m[\u001b[0m\u001b[0mkey\u001b[0m\u001b[1;33m]\u001b[0m\u001b[1;33m,\u001b[0m \u001b[0mmethod\u001b[0m\u001b[1;33m=\u001b[0m\u001b[0mmethod\u001b[0m\u001b[1;33m)\u001b[0m\u001b[1;33m\u001b[0m\u001b[0m\n",
      "\u001b[1;32mpandas\\index.pyx\u001b[0m in \u001b[0;36mpandas.index.IndexEngine.get_loc (pandas\\index.c:3824)\u001b[1;34m()\u001b[0m\n",
      "\u001b[1;32mpandas\\index.pyx\u001b[0m in \u001b[0;36mpandas.index.IndexEngine.get_loc (pandas\\index.c:3704)\u001b[1;34m()\u001b[0m\n",
      "\u001b[1;32mpandas\\hashtable.pyx\u001b[0m in \u001b[0;36mpandas.hashtable.PyObjectHashTable.get_item (pandas\\hashtable.c:12280)\u001b[1;34m()\u001b[0m\n",
      "\u001b[1;32mpandas\\hashtable.pyx\u001b[0m in \u001b[0;36mpandas.hashtable.PyObjectHashTable.get_item (pandas\\hashtable.c:12231)\u001b[1;34m()\u001b[0m\n",
      "\u001b[1;31mKeyError\u001b[0m: 4"
     ]
    }
   ],
   "source": [
    "#data2[(data2.Status == \"PT\")].dept\n",
    "data2[4]['JobTitle']"
   ]
  },
  {
   "cell_type": "markdown",
   "metadata": {},
   "source": [
    "print  len(data[(data.TotalPay < 27000) & (data.Status == \"FT\")])"
   ]
  },
  {
   "cell_type": "code",
   "execution_count": 55,
   "metadata": {
    "collapsed": false
   },
   "outputs": [
    {
     "name": "stdout",
     "output_type": "stream",
     "text": [
      "19424\n"
     ]
    }
   ],
   "source": [
    "\n",
    "#data.to_csv('SF2.csv', sep=',')\n",
    "data3 = data2[(data2.Year == 2014)]\n",
    "print len(data3[(data2.Status == \"FT\")])\n",
    "data3.to_json('SF3.json', orient=\"records\")\n",
    "#print data2[(data2.Year == 2014)]"
   ]
  },
  {
   "cell_type": "code",
   "execution_count": 63,
   "metadata": {
    "collapsed": false
   },
   "outputs": [
    {
     "name": "stdout",
     "output_type": "stream",
     "text": [
      "          EmployeeName                     JobTitle    BasePay  OvertimePay  \\\n",
      "75002   gregory p suhr              chief of police  307450.04            0   \n",
      "75194  nikolas p lemos  chief forensic toxicologist  202821.03            0   \n",
      "\n",
      "       OtherPay  Benefits   TotalPay  TotalPayBenefits  Year Status Gender  \\\n",
      "75002  19266.72  91302.46  326716.76         418019.22  2014     FT   male   \n",
      "75194  16086.18  57184.33  218907.21         276091.54  2014     FT   male   \n",
      "\n",
      "       title            grade    dept  \n",
      "75002  chief  upperManagement  police  \n",
      "75194  chief  upperManagement  police  \n"
     ]
    }
   ],
   "source": [
    "#print data3.head(100).to_json(orient=\"records\")\n",
    "police = data3[(data3.dept== \"police\")]\n",
    "print police[police.title == 'chief']\n",
    "police.to_json('SFPolice.json', orient=\"records\")"
   ]
  },
  {
   "cell_type": "code",
   "execution_count": 66,
   "metadata": {
    "collapsed": true
   },
   "outputs": [],
   "source": [
    "police = data3[(data3.dept== \"medicine\")]\n",
    "police.to_json('SFMed.json', orient=\"records\")"
   ]
  },
  {
   "cell_type": "code",
   "execution_count": 67,
   "metadata": {
    "collapsed": true
   },
   "outputs": [],
   "source": [
    "police = data3[(data3.dept== \"fire\")]\n",
    "police.to_json('SFFire.json', orient=\"records\")"
   ]
  },
  {
   "cell_type": "code",
   "execution_count": 68,
   "metadata": {
    "collapsed": true
   },
   "outputs": [],
   "source": [
    "police = data3[(data3.dept== \"constructions\")]\n",
    "police.to_json('SFConstruction.json', orient=\"records\")"
   ]
  }
 ],
 "metadata": {
  "kernelspec": {
   "display_name": "Python 2",
   "language": "python",
   "name": "python2"
  },
  "language_info": {
   "codemirror_mode": {
    "name": "ipython",
    "version": 2
   },
   "file_extension": ".py",
   "mimetype": "text/x-python",
   "name": "python",
   "nbconvert_exporter": "python",
   "pygments_lexer": "ipython2",
   "version": "2.7.9"
  }
 },
 "nbformat": 4,
 "nbformat_minor": 0
}
